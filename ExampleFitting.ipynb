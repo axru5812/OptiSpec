{
 "cells": [
  {
   "cell_type": "markdown",
   "metadata": {},
   "source": [
    "# Optical Spectroscopy\n",
    "\n",
    "<b>Notebook for running fitting of all the optical spectra and coordinating the results of that fitting.</b>"
   ]
  },
  {
   "cell_type": "code",
   "execution_count": 1,
   "metadata": {},
   "outputs": [],
   "source": [
    "import numpy as np\n",
    "import pandas as pd\n",
    "from optispec import spectrum as sp\n",
    "from optispec.fitter import SpectrumFitter\n",
    "import matplotlib.pyplot as plt"
   ]
  },
  {
   "cell_type": "markdown",
   "metadata": {},
   "source": [
    "## Configuration"
   ]
  },
  {
   "cell_type": "code",
   "execution_count": 5,
   "metadata": {
    "collapsed": true
   },
   "outputs": [],
   "source": [
    "#target redshift guess\n",
    "redshift = 0.2\n",
    "\n",
    "# Milky way extinction (if given to fitter results are corrected for MW absorption using CCM89 law)\n",
    "MW_EBV = 0.08\n",
    "\n",
    "\n",
    "\n",
    "mc_iterations = 100\n",
    "mc_workers = 3\n",
    "method = 'leastsq'\n",
    "save_results = True\n",
    "\n",
    "# This is just paths to the data\n",
    "gal_name = 'SDSSJ1044+0926'\n",
    "data_path = '/home/axel/PhD/halos/data/spectra/{gal}/{gal}.fits'\n",
    "data_file_name = data_path.format(gal=gal_name)"
   ]
  },
  {
   "cell_type": "markdown",
   "metadata": {},
   "source": [
    "## Fitting"
   ]
  },
  {
   "cell_type": "code",
   "execution_count": null,
   "metadata": {},
   "outputs": [],
   "source": [
    "fitter = SpectrumFitter(redshift_guess=redshift,\n",
    "                            mc_iterations=mc_iterations,\n",
    "                            mc_workers=mc_workers,\n",
    "                            method=method,\n",
    "                            MW_EBV=MW_EBV)\n",
    "spec = sp.read_spectrum(data_file_name)\n",
    "fitter.fit(spec)"
   ]
  },
  {
   "cell_type": "markdown",
   "metadata": {},
   "source": [
    "## Plot the fitting results"
   ]
  },
  {
   "cell_type": "code",
   "execution_count": null,
   "metadata": {},
   "outputs": [],
   "source": [
    "from optispec import utils\n",
    "plt.figure()\n",
    "plt.plot(fitter.norm.wl, fitter.norm.fl)\n",
    "plt.plot(fitter.norm.wl, fitter.predict(fitter.norm.wl, include_continuum=False))\n",
    "plt.plot(fitter.norm.wl, 10*utils.gen_linemask(fitter.norm, fitter.lines, fitter.redshift_guess), alpha=0.5)\n",
    "plt.plot(fitter.norm.wl, fitter.norm.er)"
   ]
  }
 ],
 "metadata": {
  "interpreter": {
   "hash": "5b6cffc62746ce355a8a5182ca1f16b14e916b4d9f9ade3e5a45f80bdb6e6a6d"
  },
  "kernelspec": {
   "display_name": "halos-kernel",
   "language": "python",
   "name": "python3"
  },
  "language_info": {
   "codemirror_mode": {
    "name": "ipython",
    "version": 3
   },
   "file_extension": ".py",
   "mimetype": "text/x-python",
   "name": "python",
   "nbconvert_exporter": "python",
   "pygments_lexer": "ipython3",
   "version": "3.7.9"
  },
  "toc": {
   "nav_menu": {},
   "number_sections": true,
   "sideBar": true,
   "skip_h1_title": true,
   "toc_cell": false,
   "toc_position": {
    "height": "861px",
    "left": "0px",
    "right": "1643px",
    "top": "92px",
    "width": "212px"
   },
   "toc_section_display": "block",
   "toc_window_display": true
  }
 },
 "nbformat": 4,
 "nbformat_minor": 2
}
